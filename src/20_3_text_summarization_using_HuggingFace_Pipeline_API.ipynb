{
  "nbformat": 4,
  "nbformat_minor": 0,
  "metadata": {
    "accelerator": "GPU",
    "colab": {
      "provenance": [],
      "gpuType": "T4"
    },
    "kernelspec": {
      "display_name": "Python 3",
      "name": "python3"
    }
  },
  "cells": [
    {
      "cell_type": "markdown",
      "metadata": {
        "id": "0d6OSp7TTqfJ"
      },
      "source": [
        "이 자료는 Hugging Face Pipeline API를 이용한 챗봇 튜토리얼로 작성되었습니다.  \n",
        "2025년 9월 14일에 정상 동작을 확인하였습니다.  "
      ]
    },
    {
      "cell_type": "markdown",
      "source": [
        "1. Hugging Face 회원가입(Sign Up)\n",
        "\n",
        "    - [Hugging Face 바로가기: https://huggingface.co/](https://huggingface.co/)  \n",
        "    - Sign Up 따라하기  \n",
        "\n",
        "2. Hugging Face 소개\n",
        "   - Hugging Face(https://huggingface.co/): 누구나 쉽게 공유활용 가능한 AI 모델 허브 & 오픈소스 생태계임  \n",
        "   - Hugging Face Hub 구조  \n",
        "       - Model : NLP, CV, Multimodal 등 수십만 개의 사전학습 모델 저장소  \n",
        "       - Datasets : 전처리된 대규모 공개 데이터셋  \n",
        "       - Spaces : Gradio 또는 Streamlit 기반의 AI 데모 앱 호스팅 플랫폼\n",
        "    - Hugging Face Pipeline API  \n",
        "        - 자주 쓰이는 AI 태스크를 몇 줄로 실행 가능하게 만든 고수준 API  \n",
        "        - 태스크 이름만 지정하면 토크나이저/모델 로딩+전처리+후처리 실행  \n",
        "        - 초보자도 쉽게 사용 가능하며 프로토타입 데모 제작에 최적화    \n",
        "\n",
        "3. Hugging Face의 Access Token 생성  \n",
        "\n",
        "    - 우측상단 (三) 메뉴 -> Settings -> Tokens -> +Create new token\n",
        "    - 읽기 전용(Read) / 쓰기(Write) / 관리자(Admin) 중 목적에 맞게 발급  \n",
        "    - 발급된 코드는 다시 볼 수 없기 때문에 별도로 보관  "
      ],
      "metadata": {
        "id": "UEFgNpvFncoO"
      }
    },
    {
      "cell_type": "code",
      "source": [
        "from huggingface_hub import login\n",
        "# login(token=\"hf_xxx_your_token\")"
      ],
      "metadata": {
        "id": "jOIZYOk7q-f5"
      },
      "execution_count": 3,
      "outputs": []
    },
    {
      "cell_type": "markdown",
      "source": [
        "4. Transformer 설치  "
      ],
      "metadata": {
        "id": "tuM1ZHkcvTPy"
      }
    },
    {
      "cell_type": "code",
      "source": [
        "!pip install --upgrade transformers"
      ],
      "metadata": {
        "colab": {
          "base_uri": "https://localhost:8080/"
        },
        "id": "060oPY-VvZAf",
        "outputId": "863e00a0-b556-41a7-d47f-2cc6ded18f2a"
      },
      "execution_count": 4,
      "outputs": [
        {
          "output_type": "stream",
          "name": "stdout",
          "text": [
            "Requirement already satisfied: transformers in /usr/local/lib/python3.12/dist-packages (4.56.1)\n",
            "Requirement already satisfied: filelock in /usr/local/lib/python3.12/dist-packages (from transformers) (3.19.1)\n",
            "Requirement already satisfied: huggingface-hub<1.0,>=0.34.0 in /usr/local/lib/python3.12/dist-packages (from transformers) (0.34.4)\n",
            "Requirement already satisfied: numpy>=1.17 in /usr/local/lib/python3.12/dist-packages (from transformers) (2.0.2)\n",
            "Requirement already satisfied: packaging>=20.0 in /usr/local/lib/python3.12/dist-packages (from transformers) (25.0)\n",
            "Requirement already satisfied: pyyaml>=5.1 in /usr/local/lib/python3.12/dist-packages (from transformers) (6.0.2)\n",
            "Requirement already satisfied: regex!=2019.12.17 in /usr/local/lib/python3.12/dist-packages (from transformers) (2024.11.6)\n",
            "Requirement already satisfied: requests in /usr/local/lib/python3.12/dist-packages (from transformers) (2.32.4)\n",
            "Requirement already satisfied: tokenizers<=0.23.0,>=0.22.0 in /usr/local/lib/python3.12/dist-packages (from transformers) (0.22.0)\n",
            "Requirement already satisfied: safetensors>=0.4.3 in /usr/local/lib/python3.12/dist-packages (from transformers) (0.6.2)\n",
            "Requirement already satisfied: tqdm>=4.27 in /usr/local/lib/python3.12/dist-packages (from transformers) (4.67.1)\n",
            "Requirement already satisfied: fsspec>=2023.5.0 in /usr/local/lib/python3.12/dist-packages (from huggingface-hub<1.0,>=0.34.0->transformers) (2025.3.0)\n",
            "Requirement already satisfied: typing-extensions>=3.7.4.3 in /usr/local/lib/python3.12/dist-packages (from huggingface-hub<1.0,>=0.34.0->transformers) (4.15.0)\n",
            "Requirement already satisfied: hf-xet<2.0.0,>=1.1.3 in /usr/local/lib/python3.12/dist-packages (from huggingface-hub<1.0,>=0.34.0->transformers) (1.1.9)\n",
            "Requirement already satisfied: charset_normalizer<4,>=2 in /usr/local/lib/python3.12/dist-packages (from requests->transformers) (3.4.3)\n",
            "Requirement already satisfied: idna<4,>=2.5 in /usr/local/lib/python3.12/dist-packages (from requests->transformers) (3.10)\n",
            "Requirement already satisfied: urllib3<3,>=1.21.1 in /usr/local/lib/python3.12/dist-packages (from requests->transformers) (2.5.0)\n",
            "Requirement already satisfied: certifi>=2017.4.17 in /usr/local/lib/python3.12/dist-packages (from requests->transformers) (2025.8.3)\n"
          ]
        }
      ]
    },
    {
      "cell_type": "markdown",
      "source": [
        "5. Colab에서 Hugging Face의 Access Token을 이용하여 로그인(LogIn)  "
      ],
      "metadata": {
        "id": "yJZRu7nuv5r_"
      }
    },
    {
      "cell_type": "code",
      "source": [
        "!hf auth login --token token --add-to-git-credential"
      ],
      "metadata": {
        "colab": {
          "base_uri": "https://localhost:8080/"
        },
        "id": "H9v7koeFv-WK",
        "outputId": "f58e3ea7-2b27-4597-8269-c165c0c6d306"
      },
      "execution_count": 5,
      "outputs": [
        {
          "output_type": "stream",
          "name": "stdout",
          "text": [
            "Traceback (most recent call last):\n",
            "  File \"/usr/local/lib/python3.12/dist-packages/huggingface_hub/utils/_http.py\", line 409, in hf_raise_for_status\n",
            "    response.raise_for_status()\n",
            "  File \"/usr/local/lib/python3.12/dist-packages/requests/models.py\", line 1026, in raise_for_status\n",
            "    raise HTTPError(http_error_msg, response=self)\n",
            "requests.exceptions.HTTPError: 401 Client Error: Unauthorized for url: https://huggingface.co/api/whoami-v2\n",
            "\n",
            "The above exception was the direct cause of the following exception:\n",
            "\n",
            "Traceback (most recent call last):\n",
            "  File \"/usr/local/lib/python3.12/dist-packages/huggingface_hub/hf_api.py\", line 1782, in whoami\n",
            "    hf_raise_for_status(r)\n",
            "  File \"/usr/local/lib/python3.12/dist-packages/huggingface_hub/utils/_http.py\", line 482, in hf_raise_for_status\n",
            "    raise _format(HfHubHTTPError, str(e), response) from e\n",
            "huggingface_hub.errors.HfHubHTTPError: 401 Client Error: Unauthorized for url: https://huggingface.co/api/whoami-v2 (Request ID: Root=1-68c6c369-6f80ec3d4001309066799f71;fd9a755e-61a6-4a81-b62f-60d92473d148)\n",
            "\n",
            "Invalid credentials in Authorization header\n",
            "\n",
            "The above exception was the direct cause of the following exception:\n",
            "\n",
            "Traceback (most recent call last):\n",
            "  File \"/usr/local/bin/hf\", line 10, in <module>\n",
            "    sys.exit(main())\n",
            "             ^^^^^^\n",
            "  File \"/usr/local/lib/python3.12/dist-packages/huggingface_hub/cli/hf.py\", line 59, in main\n",
            "    service.run()\n",
            "  File \"/usr/local/lib/python3.12/dist-packages/huggingface_hub/cli/auth.py\", line 126, in run\n",
            "    login(\n",
            "  File \"/usr/local/lib/python3.12/dist-packages/huggingface_hub/utils/_deprecation.py\", line 101, in inner_f\n",
            "    return f(*args, **kwargs)\n",
            "           ^^^^^^^^^^^^^^^^^^\n",
            "  File \"/usr/local/lib/python3.12/dist-packages/huggingface_hub/utils/_deprecation.py\", line 31, in inner_f\n",
            "    return f(*args, **kwargs)\n",
            "           ^^^^^^^^^^^^^^^^^^\n",
            "  File \"/usr/local/lib/python3.12/dist-packages/huggingface_hub/_login.py\", line 126, in login\n",
            "    _login(token, add_to_git_credential=add_to_git_credential)\n",
            "  File \"/usr/local/lib/python3.12/dist-packages/huggingface_hub/_login.py\", line 404, in _login\n",
            "    token_info = whoami(token)\n",
            "                 ^^^^^^^^^^^^^\n",
            "  File \"/usr/local/lib/python3.12/dist-packages/huggingface_hub/utils/_validators.py\", line 114, in _inner_fn\n",
            "    return fn(*args, **kwargs)\n",
            "           ^^^^^^^^^^^^^^^^^^^\n",
            "  File \"/usr/local/lib/python3.12/dist-packages/huggingface_hub/hf_api.py\", line 1796, in whoami\n",
            "    raise HTTPError(error_message, request=e.request, response=e.response) from e\n",
            "requests.exceptions.HTTPError: Invalid user token.\n"
          ]
        }
      ]
    },
    {
      "cell_type": "markdown",
      "source": [
        "6. Git credential 설정 하기  "
      ],
      "metadata": {
        "id": "YO2eyivMxdaL"
      }
    },
    {
      "cell_type": "code",
      "source": [
        "!git config --global credential.helper store"
      ],
      "metadata": {
        "id": "e8bFrWeFxjTz"
      },
      "execution_count": 6,
      "outputs": []
    },
    {
      "cell_type": "markdown",
      "source": [
        "7. Hugging Face 로그인 상태 확인  "
      ],
      "metadata": {
        "id": "fNAKPukBxnbj"
      }
    },
    {
      "cell_type": "code",
      "source": [
        "!hf auth whoami"
      ],
      "metadata": {
        "colab": {
          "base_uri": "https://localhost:8080/"
        },
        "id": "iA1RxXdXxtXr",
        "outputId": "f347af34-04d7-4039-b129-ed690a6579b6"
      },
      "execution_count": 7,
      "outputs": [
        {
          "output_type": "stream",
          "name": "stdout",
          "text": [
            "gislee\n"
          ]
        }
      ]
    },
    {
      "cell_type": "markdown",
      "source": [
        "8. 한국어 문장 요약 - Hugging Face pipeline API 이용 통합 로드"
      ],
      "metadata": {
        "id": "sd8E_aNZytSu"
      }
    },
    {
      "cell_type": "code",
      "source": [
        "from transformers import pipeline\n",
        "\n",
        "# pipeline을 사용하여 KoT5 요약 모델 로드\n",
        "# 모델 이름과 리비전을 명시하는 것이 좋습니다.\n",
        "summarizer_pipeline = pipeline(\n",
        "    \"summarization\",\n",
        "    model=\"psyche/KoT5-summarization\"\n",
        "    # KoT5 모델의 특정 리비전을 사용하고 싶다면 revision=\"...\" 추가\n",
        ")\n",
        "input_text_for_pipeline = \"오늘은 허깅페이스를 배우는 날입니다. 파이프라인을 활용하면 요약, 번역, 질의응답 같은 다양한 작업을 쉽게 수행할 수 있습니다. 이 회사는 오픈소스 기반 AI 생태계로 유명합니다.\"\n",
        "print(\"\\n입력문장: \\n\"+input_text_for_pipeline)\n",
        "\n",
        "# pipeline을 사용하여 요약 생성\n",
        "# max_length 대신 max_new_tokens 사용 가능 (모델에 따라 다름)\n",
        "# KoT5는 max_length가 더 적합할 수 있습니다.\n",
        "summary_result_pipeline = summarizer_pipeline(\n",
        "    input_text_for_pipeline,\n",
        "    max_length=100, # 생성될 요약문의 최대 길이\n",
        "    min_length=10,  # 생성될 요약문의 최소 길이\n",
        "    do_sample=False # 샘플링 사용 여부\n",
        ")\n",
        "\n",
        "# 결과 출력\n",
        "print(\"\\n요약문장:\")\n",
        "print(summary_result_pipeline[0]['summary_text'])"
      ],
      "metadata": {
        "colab": {
          "base_uri": "https://localhost:8080/"
        },
        "id": "VRGYSFs0yyya",
        "outputId": "351fcabb-ac06-4f84-9aec-a9daa53a02de"
      },
      "execution_count": 12,
      "outputs": [
        {
          "output_type": "stream",
          "name": "stderr",
          "text": [
            "Device set to use cuda:0\n",
            "Your max_length is set to 100, but your input_length is only 45. Since this is a summarization task, where outputs shorter than the input are typically wanted, you might consider decreasing max_length manually, e.g. summarizer('...', max_length=22)\n",
            "Both `max_new_tokens` (=256) and `max_length`(=100) seem to have been set. `max_new_tokens` will take precedence. Please refer to the documentation for more information. (https://huggingface.co/docs/transformers/main/en/main_classes/text_generation)\n"
          ]
        },
        {
          "output_type": "stream",
          "name": "stdout",
          "text": [
            "\n",
            "입력문장: \n",
            "오늘은 허깅페이스를 배우는 날입니다. 파이프라인을 활용하면 요약, 번역, 질의응답 같은 다양한 작업을 쉽게 수행할 수 있습니다. 이 회사는 오픈소스 기반 AI 생태계로 유명합니다.\n",
            "\n",
            "요약문장:\n",
            "파이프라인을 활용하면 요약, 번역, 질의응답 같은 작업을 쉽게 수행할 수 있습니다. 이 회사는 오픈소스 기반 AI 생태계로 유명합니다.\n"
          ]
        }
      ]
    }
  ]
}